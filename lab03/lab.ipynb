{
 "cells": [
  {
   "cell_type": "markdown",
   "metadata": {
    "collapsed": true
   },
   "source": [
    "# Lab 03"
   ]
  },
  {
   "cell_type": "markdown",
   "metadata": {},
   "source": [
    "# 3.1\n",
    "\n",
    "## a. \n",
    "\n",
    "all except min_conflicts were able to consistently solve the easier puzzles. The dfs couldnt solve the harder puzzles in a timely manner because the tree that it has to search is enormous and takes to long to traverse. the ac3 coudlnt solve the puzzles in a timely manner because there are too many arc consistencies to manage. backtracking deosnt solve the problem in a timely manner either because there is still so many possible combinations on the way to a solution that it can get pretty deep into a search, but then have to back out because it finds some conflict. min_conflicts is a local search, so it can get hung on a local but not global maximum.\n",
    "\n",
    "## b.\n",
    "\n",
    "### i. set variable/value ordering to first-unassigned-variable \n",
    "\n",
    "setting first-unassigned-variable to mrv is a small speed improvement"
   ]
  },
  {
   "cell_type": "code",
   "execution_count": 3,
   "metadata": {},
   "outputs": [
    {
     "name": "stdout",
     "output_type": "stream",
     "text": "\nStart:\n. . 3 | . 2 . | 6 . .\n9 . . | 3 . 5 | . . 1\n. . 1 | 8 . 6 | 4 . .\n------+-------+------\n. . 8 | 1 . 2 | 9 . .\n7 . . | . . . | . . 8\n. . 6 | 7 . 8 | 2 . .\n------+-------+------\n. . 2 | 6 . 9 | 5 . .\n8 . . | 2 . 3 | . . 9\n. . 5 | . 1 . | 3 . .\n\nSolution:\n4 8 3 | 9 2 1 | 6 5 7\n9 6 7 | 3 4 5 | 8 2 1\n2 5 1 | 8 7 6 | 4 9 3\n------+-------+------\n5 4 8 | 1 3 2 | 9 7 6\n7 2 9 | 5 6 4 | 1 3 8\n1 3 6 | 7 9 8 | 2 4 5\n------+-------+------\n3 7 2 | 6 8 9 | 5 1 4\n8 1 4 | 2 5 3 | 7 6 9\n6 9 5 | 4 1 7 | 3 8 2\n"
    }
   ],
   "source": [
    "from csp import Sudoku, easy1, AC3, harder1, backtracking_search, mrv, \\\n",
    "    forward_checking, min_conflicts\n",
    "from search import depth_first_graph_search\n",
    "\n",
    "# 1. Set up the puzzle.\n",
    "hardest_escargot = Sudoku('..3.2.6..9..3.5..1..18.64....81.29..7.......8..67.82....26.95..8..2.3..9..5.1.3..')\n",
    "puzzle = hardest_escargot\n",
    "\n",
    "print('\\nStart:')\n",
    "puzzle.display(puzzle.infer_assignment())\n",
    "\n",
    "# 2. Solve the puzzle.\n",
    "backtracking_search(puzzle, select_unassigned_variable=mrv)\n",
    "\n",
    "# 3. Print the results.  \n",
    "if puzzle.goal_test(puzzle.infer_assignment()):\n",
    "    print('\\nSolution:')\n",
    "    puzzle.display(puzzle.infer_assignment())\n",
    "else:\n",
    "    print('\\nFailed - domains: ' + str(puzzle.curr_domains))\n",
    "    puzzle.display(puzzle.infer_assignment())"
   ]
  },
  {
   "cell_type": "markdown",
   "metadata": {},
   "source": [
    "### ii. Set the inference to fowrard-checking\n",
    "\n",
    "setting the inference to fowrard-checking results in a speed improvement"
   ]
  },
  {
   "cell_type": "code",
   "execution_count": 4,
   "metadata": {},
   "outputs": [
    {
     "name": "stdout",
     "output_type": "stream",
     "text": "\nStart:\n. . 3 | . 2 . | 6 . .\n9 . . | 3 . 5 | . . 1\n. . 1 | 8 . 6 | 4 . .\n------+-------+------\n. . 8 | 1 . 2 | 9 . .\n7 . . | . . . | . . 8\n. . 6 | 7 . 8 | 2 . .\n------+-------+------\n. . 2 | 6 . 9 | 5 . .\n8 . . | 2 . 3 | . . 9\n. . 5 | . 1 . | 3 . .\n\nSolution:\n4 8 3 | 9 2 1 | 6 5 7\n9 6 7 | 3 4 5 | 8 2 1\n2 5 1 | 8 7 6 | 4 9 3\n------+-------+------\n5 4 8 | 1 3 2 | 9 7 6\n7 2 9 | 5 6 4 | 1 3 8\n1 3 6 | 7 9 8 | 2 4 5\n------+-------+------\n3 7 2 | 6 8 9 | 5 1 4\n8 1 4 | 2 5 3 | 7 6 9\n6 9 5 | 4 1 7 | 3 8 2\n"
    }
   ],
   "source": [
    "from csp import Sudoku, easy1, AC3, harder1, backtracking_search, mrv, \\\n",
    "    forward_checking, min_conflicts\n",
    "from search import depth_first_graph_search\n",
    "\n",
    "# 1. Set up the puzzle.\n",
    "hardest_escargot = Sudoku('..3.2.6..9..3.5..1..18.64....81.29..7.......8..67.82....26.95..8..2.3..9..5.1.3..')\n",
    "puzzle = hardest_escargot\n",
    "\n",
    "print('\\nStart:')\n",
    "puzzle.display(puzzle.infer_assignment())\n",
    "\n",
    "# 2. Solve the puzzle.\n",
    "backtracking_search(puzzle, inference=forward_checking)\n",
    "\n",
    "# 3. Print the results.  \n",
    "if puzzle.goal_test(puzzle.infer_assignment()):\n",
    "    print('\\nSolution:')\n",
    "    puzzle.display(puzzle.infer_assignment())\n",
    "else:\n",
    "    print('\\nFailed - domains: ' + str(puzzle.curr_domains))\n",
    "    puzzle.display(puzzle.infer_assignment())"
   ]
  },
  {
   "cell_type": "markdown",
   "metadata": {},
   "source": [
    "### Results\n",
    "\n",
    "the combination with both optimizations should work best, but in fact just using the forward_checking works the best.\n"
   ]
  },
  {
   "cell_type": "markdown",
   "metadata": {},
   "source": [
    "# 3.2\n",
    "\n",
    "## a. \n",
    "dfs and ac3 always fail.\n",
    "backtracking works to about n = 25 and then the search space gets too big.\n",
    "min_conflicts is INSANE. It has no problem finding solutions as far as n = 10000. \n",
    "min_conflicts did not fail while I was using it.\n",
    "\n",
    "## b. \n",
    "The backtracking settings with both forward_checking inference and first unassigned worked the best. This is because by working on a queen that has the most conflicts first, we immediately shorten our search space before the algorithm really gets going. Additionally the forward_checking is a way to look ahead of the search space to avoid future conflicts. this makes the total search space smaller improving the speed of the algorithm\n",
    "\n",
    "## c. \n",
    "Min-Conflicts requires VERY few steps. According to wikipedia, an optimized min-Conflicts search can solve the million-queens problem in roughly 50 steps!!!\n",
    "The algorithm works by trying to repeatedly trying to move a conflicted queen to the square of least conflictions.\n",
    "\n"
   ]
  },
  {
   "cell_type": "markdown",
   "metadata": {},
   "source": [
    "# 3.3\n",
    "\n",
    "## a. \n",
    "CSP specifications require a set of variables a set of domains and a set of constraints that specify allowable combinations of values. Traditional problems require a initial state, possible actions to change the state, a transition model that describes how the state looks after an action has been executed, and a gold test which is a check to see if a solution has been found. These specifications are different in that traditional searches are going for the final solution state while CSP solutions are going for the best answer.\n",
    "\n",
    "   \n",
    "## b. \n",
    "heuristics in traditional problem solving consider a boolean solved or unsolved state, whereas heuristics in constraint based problem solving dont look at a final solution but rather continue to minimize conflicts until a solution state is found."
   ]
  }
 ],
 "metadata": {
  "kernelspec": {
   "display_name": "Python 3",
   "language": "python",
   "name": "python3"
  },
  "language_info": {
   "codemirror_mode": {
    "name": "ipython",
    "version": 3
   },
   "file_extension": ".py",
   "mimetype": "text/x-python",
   "name": "python",
   "nbconvert_exporter": "python",
   "pygments_lexer": "ipython3",
   "version": "3.7.4-final"
  },
  "pycharm": {
   "stem_cell": {
    "cell_type": "raw",
    "source": [],
    "metadata": {
     "collapsed": false
    }
   }
  }
 },
 "nbformat": 4,
 "nbformat_minor": 1
}