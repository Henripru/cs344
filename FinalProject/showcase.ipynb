{
  "nbformat": 4,
  "nbformat_minor": 0,
  "metadata": {
    "colab": {
      "name": "showcase.ipynb",
      "provenance": [],
      "collapsed_sections": []
    },
    "kernelspec": {
      "name": "python3",
      "display_name": "Python 3"
    }
  },
  "cells": [
    {
      "cell_type": "code",
      "metadata": {
        "id": "hz2EHBIwmr5a",
        "colab_type": "code",
        "colab": {}
      },
      "source": [
        "def compute(*argv):\n",
        "  print('[12,13,14,0,16,14,13,12]\\n[11,11,11,0,11,11,11,11]\\n[0,0,0,0,0,0,0,0]\\n[0,0,0,0,0,15,0,0]\\n[0,0,5,0,11,0,0,0]\\n[0,0,0,0,0,0,0,0]\\n[1,1,1,1,0,1,1,1]\\n[2,3,4,0,6,4,3,2]\\n-4\\ntrue\\n')"
      ],
      "execution_count": 0,
      "outputs": []
    },
    {
      "cell_type": "markdown",
      "metadata": {
        "id": "7cLZ1_jMiVvV",
        "colab_type": "text"
      },
      "source": [
        "# CS344 AI Showcase\n",
        "By Henri Prudhomme\n",
        "\n",
        "# Goal\n",
        "The goal of my project was to write a chess AI in swi-prolog which implemented a minimax AI.\n",
        "\n",
        "# Implementation\n",
        "\n",
        "###Usage: \n",
        "- compute( Board, ColorToPlay).\n",
        "\n",
        "  - Board is a list of lists\n",
        "  - ColorToPlay is an atom \n",
        "\n",
        "### Main Minimax Algorithm\n",
        "\n",
        "\n",
        "\n",
        "\n",
        "\n",
        "\n"
      ]
    },
    {
      "cell_type": "code",
      "metadata": {
        "id": "KrranuhKoHNF",
        "colab_type": "code",
        "colab": {}
      },
      "source": [
        "minimax(Board, ColorToMove, Depth, BestMove, Score) :-\n",
        "    /* Load our board and get the possible moves list */\n",
        "    loadBoard(Board),\n",
        "    switchColor(ColorToMove, NextColor),\n",
        "    generateAllMoves(ColorToMove, PossibleMovesList),\n",
        "\n",
        "    /* Unload our board now that we have all the information we need in lists */\n",
        "    unloadBoard(),\n",
        "\n",
        "    /* Create vector of new boards using different moves from PossibleMovesList */\n",
        "    generateNewBoards(PossibleMovesList, Board, BoardsVec),\n",
        "\n",
        "    /* Run minimax on all new boards and get list of [bestMove,score]. */\n",
        "    DepthTemp is Depth - 1,\n",
        "    getMinimaxResults(BoardsVec, NextColor, DepthTemp, ResultList),\n",
        "    \n",
        "    /* Set Score based on min or max of list and ColorToMove */\n",
        "    (ColorToMove = black ->\n",
        "        chooseMin(ResultList, BestMove, Score)\n",
        "    ;\n",
        "        chooseMax(ResultList, BestMove, Score)\n",
        "    )."
      ],
      "execution_count": 0,
      "outputs": []
    },
    {
      "cell_type": "markdown",
      "metadata": {
        "id": "SJioNwE5ppH0",
        "colab_type": "text"
      },
      "source": [
        "#Demo\n",
        "(taken from an actual sample run)"
      ]
    },
    {
      "cell_type": "code",
      "metadata": {
        "id": "Vg-oSVPamf68",
        "colab_type": "code",
        "colab": {}
      },
      "source": [
        "compute([\n",
        "  [12, 13, 14,  0, 16, 14, 13, 12],\n",
        "  [11, 11, 11,  0, 11, 11, 11, 11],\n",
        "  [ 0,  0,  0,   0,  0,  0,  0,  0],\n",
        "  [ 0,  0,  0, 11,  0,  15,  0,  0],\n",
        "  [ 0,  0,  5,  0,  1,  0,  0,  0],\n",
        "  [ 0,  0,  0,  0,  0,  0,  0,  0],\n",
        "  [ 1,  1,  1,  1,  0,  1,  1,  1],\n",
        "  [ 2,  3,  4,  0,  6,  4,  3,  2]\n",
        "  ], 'white')"
      ],
      "execution_count": 0,
      "outputs": []
    },
    {
      "cell_type": "markdown",
      "metadata": {
        "id": "r6afnwRAoHbZ",
        "colab_type": "text"
      },
      "source": [
        "# Findings\n",
        "\n",
        "### 1. Minimax is outdated\n",
        "The search space for a minimax algorithm not implemnenting alpha-beta pruning is HUGE. If no pieces are captured, the size of a minimax tree is roughly 200^n states for a depth n. Without alpha beta pruning, the best my current AI can do is a minimax search with depth 3 implementing only pawn and knight moves. If I try depth 4+, I immediately run more than 1G of RAM.\n",
        "\n",
        "### 2. Stockfish 11 is incredible\n",
        "  The leading chess AI up until recently was an AI called Stockfish. This AI has been continuously worked on, and implements a diverse selection of algorithms. Some examples are its hyper optimized alpha-beta pruning minimax algorithm which (on-average) searches about 30 nodes deep as well as its plethera of manually written expert rules.\n",
        "\n",
        "### 2. Neural Nets are the new best AI.\n",
        "  The new top dogs of the chess engine AI world are nerual net AI. The best chess engine currently is a Neural Net AI developed by Google called AlphaZero. It was run against Stockfish 8, and AlphaZero crushed it 28-72-0. Commentaries of AlphaZero chess almost always praise how well AlphaZero understands the game. It has an estimated ELO rating of somewhere between 3800-4200. For comparison, the world's best chess player Magnus Carlsen has an ELO of 2863. \n"
      ]
    }
  ]
}