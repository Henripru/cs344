{
  "nbformat": 4,
  "nbformat_minor": 0,
  "metadata": {
    "colab": {
      "name": "proposal.ipynb",
      "provenance": [],
      "collapsed_sections": []
    },
    "kernelspec": {
      "name": "python3",
      "display_name": "Python 3"
    }
  },
  "cells": [
    {
      "cell_type": "code",
      "metadata": {
        "id": "giM4wQGcw1g0",
        "colab_type": "code",
        "colab": {}
      },
      "source": [
        "#fake function to show example output\n",
        "def make_move(*args):\n",
        "  print(\"Move = [[6, 3], [4, 3]].\\nyes\")"
      ],
      "execution_count": 0,
      "outputs": []
    },
    {
      "cell_type": "markdown",
      "metadata": {
        "id": "4792AeYcMsO2",
        "colab_type": "text"
      },
      "source": [
        "# Vision\n",
        "The goal this project is to create a chess engine with an expert system implementation in prolog. The engine will take a list of lists describing the arrangement of a chessboard. The engine will then compute a best move and describe it as output.   \n",
        "\n",
        "# Background\n",
        "I will be using prolog for my expert system. Firstly, I chose prolog because it was one of the new languages introduced in the AI course, and I wanted to explore with the new language. Secondly, I chose prolog because it allows very conventient expressions of if-then decisions for choosing a best move. I will loosely base my work on the work of Martin Ostermann and his min-max alpha-beta-pruning chess engine written in prolog, as well as Anton Danilov's stack overflow post.\n",
        " \n",
        "# Implementation\n",
        "The operation of the final program is simple. \n",
        "\n",
        "The program will have the following assumptions: \n",
        "1. The engine plays as black\n",
        "2. It is black's move\n",
        "3. There are moves available for black\n",
        "\n",
        "Board coordinates follow these rules -\n",
        "1. The board is oriented with blacks side nearest row7 and vice versa\n",
        "2. The boards rows are numbered from 0 to 7 from bottom to top. \n",
        "3. The boards columns are numbered from 0 to 7 from left to right.  \n",
        "4. Pieces on the board will follow the following numbering system:\n",
        "\n",
        "    0 - empty;\n",
        "\n",
        "    1 - w_pawn;\n",
        "    2 - w_knight; \n",
        "    3 - w_bishop; \n",
        "    4 - w_rook;\n",
        "    5 - w_queen; \n",
        "    6 - w_king; \n",
        "\n",
        "    11 - b_pawn;\n",
        "    12 - b_knight;\n",
        "    13 - b_bishop; \n",
        "    14 - b_rook; \n",
        "    15 - b_queen; \n",
        "    16 - b_king;\n",
        "\n",
        "The output (best) move computed by the engine will be a list of pairs with teh following format: \n",
        "    \n",
        "    [[OldRow, OldCol], [NewRow, NewCol]] \n",
        "\n",
        "Example: \n",
        "\n"
      ]
    },
    {
      "cell_type": "code",
      "metadata": {
        "id": "yUo4XhWNv-19",
        "colab_type": "code",
        "colab": {
          "base_uri": "https://localhost:8080/",
          "height": 51
        },
        "outputId": "6aca727d-3e8c-4acf-b89d-c69e92796d4e"
      },
      "source": [
        "make_move(\n",
        "    [14,12,13,15,16,13,12,14],\n",
        "    [11,11,11,11,11,11,11,11],\n",
        "    [ 0, 0, 0, 0, 0, 0, 0, 0],\n",
        "    [ 0, 0, 0, 0, 0, 0, 0, 0],\n",
        "    [ 0, 0, 0, 0, 1, 0, 0, 0],\n",
        "    [ 0, 0, 0, 0, 0, 0, 0, 0],\n",
        "    [ 1, 1, 1, 1, 0, 1, 1, 1],\n",
        "    [ 4, 2, 3, 5, 6, 3, 2, 4]\n",
        ")"
      ],
      "execution_count": 3,
      "outputs": [
        {
          "output_type": "stream",
          "text": [
            "Move = [[6, 3], [4, 3]].\n",
            "yes\n"
          ],
          "name": "stdout"
        }
      ]
    },
    {
      "cell_type": "markdown",
      "metadata": {
        "id": "Xx5zCWtlwgYB",
        "colab_type": "text"
      },
      "source": [
        "My implementation will use a min-max alpha beta pruning algorithm in which the min-max weights will be computed using expert rules to evaluate position.\n",
        "These rules will provide weights for things such as attacker/defender counts, Piece chaining, over-extended piece counts, distance from board center, etc.\n",
        "\n",
        "# Results \n",
        "Give the results of your system and comparing them with other similar work. (NONE YET)\n",
        "\n",
        "# Implications \n",
        "There are ethical implications with the method that I have chosen in that by summing best positions based on factors such as piece count, position etc, I have implicitely determined that those are the most important values in deciding who is winnning in a chess game. These conditions however may not be the best indicators of who is winning, but since I have chosen to model them as such, there is implicit Anchoring Bias. This bias occurs when a decision is relies on a select few factors that are deemed most important. Just because a position wins a piece for black doesn't mean that in the long run that it was the best move.\n"
      ]
    }
  ]
}