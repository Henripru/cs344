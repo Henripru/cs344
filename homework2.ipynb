{
 "nbformat": 4,
 "nbformat_minor": 2,
 "metadata": {
  "language_info": {
   "name": "python",
   "codemirror_mode": {
    "name": "ipython",
    "version": 3
   }
  },
  "orig_nbformat": 2,
  "file_extension": ".py",
  "mimetype": "text/x-python",
  "name": "python",
  "npconvert_exporter": "python",
  "pygments_lexer": "ipython3",
  "version": 3
 },
 "cells": [
  {
   "cell_type": "markdown",
   "metadata": {},
   "source": [
    "# Homework 2\n",
    "## Problem 1: Spam Filter\n",
    "\n",
    "I will walk you step by step through the spam filtering process. \n",
    "\n",
    "First, we define a function which returns a dictionary which contains a count for every word occurrence in the provided email list"
   ]
  },
  {
   "cell_type": "code",
   "execution_count": null,
   "metadata": {},
   "outputs": [],
   "source": [
    "def get_hash_table(email_list):\n",
    "    hash_table_result = {}\n",
    "    for email in email_list:\n",
    "        for word in email:\n",
    "            if word in hash_table_result.keys():\n",
    "                print(\"Found another \", word)\n",
    "                hash_table_result[word] = hash_table_result[word] + 1.0\n",
    "            else:\n",
    "                print(\"Creating entry for \", word)\n",
    "                hash_table_result[word] = 1.0\n",
    "    return hash_table_result"
   ]
  },
  {
   "cell_type": "markdown",
   "metadata": {},
   "source": [
    "Here are the hash tables that generate for the example data set"
   ]
  },
  {
   "cell_type": "code",
   "execution_count": null,
   "metadata": {},
   "outputs": [],
   "source": [
    "spam_corpus = [[\"I\", \"am\", \"spam\", \"spam\", \"I\", \"am\"], [\"I\", \"do\", \"not\", \"like\", \"that\", \"spamiam\"]]\n",
    "ham_corpus = [[\"do\", \"i\", \"like\", \"green\", \"eggs\", \"and\", \"ham\"], [\"i\", \"do\"]]\n",
    "\n",
    "print(\"Hash Tables\")\n",
    "ham_hash_table = get_hash_table(ham_corpus)\n",
    "spam_hash_table = get_hash_table(spam_corpus)\n",
    "print(ham_hash_table)\n",
    "print(spam_hash_table)"
   ]
  },
  {
   "cell_type": "markdown",
   "metadata": {},
   "source": [
    "Then we need to finish gathering information about the email lists before we generate the probability table"
   ]
  },
  {
   "cell_type": "code",
   "execution_count": null,
   "metadata": {},
   "outputs": [],
   "source": [
    "num_ham_emails = len(ham_corpus)\n",
    "num_spam_emails = len(spam_corpus)\n",
    "print(\"Num Ham Emails:\", num_ham_emails)\n",
    "print(\"Num Spam Emails:\", num_spam_emails)"
   ]
  },
  {
   "cell_type": "markdown",
   "metadata": {},
   "source": [
    "Finally we create the probability table from the algorithm provided by Graham."
   ]
  },
  {
   "cell_type": "code",
   "execution_count": null,
   "metadata": {},
   "outputs": [],
   "source": [
    "def get_probability_value(word, ham_hash_table, spam_hash_table, num_ham_emails, num_spam_emails):\n",
    "    result = 0.0\n",
    "    g_value = 0.0\n",
    "    b_value = 0.0\n",
    "    if word in ham_hash_table.keys():\n",
    "        g_value = 2.0 * ham_hash_table[word]\n",
    "    if word in spam_hash_table.keys():\n",
    "        b_value = spam_hash_table[word]\n",
    "    if (g_value + b_value > 1.0):\n",
    "        result = max(0.01, min(0.99, min(1.0, b_value/num_spam_emails) / (min(1.0, g_value/num_ham_emails) + min(1.0, b_value/num_spam_emails))))\n",
    "    return result\n",
    "\n",
    "\n",
    "def get_probability_table(num_ham_emails, ham_hash_table, num_spam_emails, spam_hash_table):\n",
    "    result_probability_table = {}\n",
    "    # add good words to table\n",
    "    for good_word in ham_hash_table:\n",
    "        result_probability_table[good_word] = get_probability_value(good_word, ham_hash_table, spam_hash_table, num_ham_emails, num_spam_emails)\n",
    "    # add remaining bad words to table\n",
    "    for bad_word in spam_hash_table:\n",
    "        if bad_word in result_probability_table.keys():\n",
    "            # Do nothing\n",
    "            print()\n",
    "        else:\n",
    "            result_probability_table[bad_word] = get_probability_value(bad_word, ham_hash_table, spam_hash_table, num_ham_emails, num_spam_emails)\n",
    "    return result_probability_table"
   ]
  },
  {
   "cell_type": "markdown",
   "metadata": {},
   "source": [
    "Here is the probability table"
   ]
  },
  {
   "cell_type": "code",
   "execution_count": null,
   "metadata": {},
   "outputs": [],
   "source": [
    "probability_table = get_probability_table(num_ham_emails, ham_hash_table, num_spam_emails, spam_hash_table)\n",
    "print(\"Probability Table\\n\", probability_table)"
   ]
  },
  {
   "cell_type": "markdown",
   "metadata": {},
   "source": [
    "Now we can create a probability filter which uses the probability table"
   ]
  },
  {
   "cell_type": "code",
   "execution_count": null,
   "metadata": {},
   "outputs": [],
   "source": [
    "def get_probability_of_spam(probability_table, email):\n",
    "    prod = 1.0\n",
    "    complement = 1.0\n",
    "    for word in email:\n",
    "        prod = prod * probability_table[word]\n",
    "        complement = complement * (1.0 - probability_table[word])\n",
    "\n",
    "    return prod / (prod + complement)"
   ]
  },
  {
   "cell_type": "markdown",
   "metadata": {},
   "source": [
    "Lets print the probabilities for each of the emails that we started with"
   ]
  },
  {
   "cell_type": "code",
   "execution_count": null,
   "metadata": {},
   "outputs": [],
   "source": [
    "print(get_probability_of_spam(probability_table, [\"I\", \"am\", \"spam\", \"spam\", \"I\", \"am\"]))\n",
    "print(get_probability_of_spam(probability_table, [\"I\", \"do\", \"not\", \"like\", \"that\", \"spamiam\"]))\n",
    "print(get_probability_of_spam(probability_table, [\"do\", \"i\", \"like\", \"green\", \"eggs\", \"and\", \"ham\"]))\n",
    "print(get_probability_of_spam(probability_table, [\"i\", \"do\"]))"
   ]
  }
 ]
}