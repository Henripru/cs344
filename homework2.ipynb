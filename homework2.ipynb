{
 "cells": [
  {
   "cell_type": "markdown",
   "metadata": {},
   "source": [
    "# Homework 2\n",
    "## Exercise 1: Spam Filter\n",
    "\n",
    "I will walk you step by step through the spam filtering process. \n",
    "\n",
    "First, we define a function which returns a dictionary which contains a count for every word occurrence in the provided email list"
   ]
  },
  {
   "cell_type": "code",
   "execution_count": 1,
   "metadata": {},
   "outputs": [],
   "source": [
    "def get_hash_table(email_list):\n",
    "    hash_table_result = {}\n",
    "    for email in email_list:\n",
    "        for word in email:\n",
    "            if word in hash_table_result.keys():\n",
    "                print(\"Found another \", word)\n",
    "                hash_table_result[word] = hash_table_result[word] + 1.0\n",
    "            else:\n",
    "                print(\"Creating entry for \", word)\n",
    "                hash_table_result[word] = 1.0\n",
    "    return hash_table_result"
   ]
  },
  {
   "cell_type": "markdown",
   "metadata": {},
   "source": [
    "Here are the hash tables that generate for the example data set"
   ]
  },
  {
   "cell_type": "code",
   "execution_count": 2,
   "metadata": {},
   "outputs": [
    {
     "name": "stdout",
     "output_type": "stream",
     "text": [
      "Hash Tables\n",
      "Creating entry for  do\n",
      "Creating entry for  i\n",
      "Creating entry for  like\n",
      "Creating entry for  green\n",
      "Creating entry for  eggs\n",
      "Creating entry for  and\n",
      "Creating entry for  ham\n",
      "Found another  i\n",
      "Found another  do\n",
      "Creating entry for  I\n",
      "Creating entry for  am\n",
      "Creating entry for  spam\n",
      "Found another  spam\n",
      "Found another  I\n",
      "Found another  am\n",
      "Found another  I\n",
      "Creating entry for  do\n",
      "Creating entry for  not\n",
      "Creating entry for  like\n",
      "Creating entry for  that\n",
      "Creating entry for  spamiam\n",
      "{'do': 2.0, 'i': 2.0, 'like': 1.0, 'green': 1.0, 'eggs': 1.0, 'and': 1.0, 'ham': 1.0}\n",
      "{'I': 3.0, 'am': 2.0, 'spam': 2.0, 'do': 1.0, 'not': 1.0, 'like': 1.0, 'that': 1.0, 'spamiam': 1.0}\n"
     ]
    }
   ],
   "source": [
    "spam_corpus = [[\"I\", \"am\", \"spam\", \"spam\", \"I\", \"am\"], [\"I\", \"do\", \"not\", \"like\", \"that\", \"spamiam\"]]\n",
    "ham_corpus = [[\"do\", \"i\", \"like\", \"green\", \"eggs\", \"and\", \"ham\"], [\"i\", \"do\"]]\n",
    "\n",
    "print(\"Hash Tables\")\n",
    "ham_hash_table = get_hash_table(ham_corpus)\n",
    "spam_hash_table = get_hash_table(spam_corpus)\n",
    "print(ham_hash_table)\n",
    "print(spam_hash_table)"
   ]
  },
  {
   "cell_type": "markdown",
   "metadata": {},
   "source": [
    "Then we need to finish gathering information about the email lists before we generate the probability table"
   ]
  },
  {
   "cell_type": "code",
   "execution_count": 3,
   "metadata": {},
   "outputs": [
    {
     "name": "stdout",
     "output_type": "stream",
     "text": [
      "Num Ham Emails: 2\n",
      "Num Spam Emails: 2\n"
     ]
    }
   ],
   "source": [
    "num_ham_emails = len(ham_corpus)\n",
    "num_spam_emails = len(spam_corpus)\n",
    "print(\"Num Ham Emails:\", num_ham_emails)\n",
    "print(\"Num Spam Emails:\", num_spam_emails)"
   ]
  },
  {
   "cell_type": "markdown",
   "metadata": {},
   "source": [
    "Finally we create the probability table from the algorithm provided by Graham."
   ]
  },
  {
   "cell_type": "code",
   "execution_count": 4,
   "metadata": {},
   "outputs": [],
   "source": [
    "def get_probability_value(word, ham_hash_table, spam_hash_table, num_ham_emails, num_spam_emails):\n",
    "    result = 0.0\n",
    "    g_value = 0.0\n",
    "    b_value = 0.0\n",
    "    if word in ham_hash_table.keys():\n",
    "        g_value = 2.0 * ham_hash_table[word]\n",
    "    if word in spam_hash_table.keys():\n",
    "        b_value = spam_hash_table[word]\n",
    "    if (g_value + b_value > 1.0):\n",
    "        result = max(0.01, min(0.99, min(1.0, b_value/num_spam_emails) / (min(1.0, g_value/num_ham_emails) + min(1.0, b_value/num_spam_emails))))\n",
    "    return result\n",
    "\n",
    "\n",
    "def get_probability_table(num_ham_emails, ham_hash_table, num_spam_emails, spam_hash_table):\n",
    "    result_probability_table = {}\n",
    "    # add good words to table\n",
    "    for good_word in ham_hash_table:\n",
    "        result_probability_table[good_word] = get_probability_value(good_word, ham_hash_table, spam_hash_table, num_ham_emails, num_spam_emails)\n",
    "    # add remaining bad words to table\n",
    "    for bad_word in spam_hash_table:\n",
    "        if bad_word in result_probability_table.keys():\n",
    "            # Do nothing\n",
    "            print()\n",
    "        else:\n",
    "            result_probability_table[bad_word] = get_probability_value(bad_word, ham_hash_table, spam_hash_table, num_ham_emails, num_spam_emails)\n",
    "    return result_probability_table"
   ]
  },
  {
   "cell_type": "markdown",
   "metadata": {},
   "source": [
    "Here is the probability table"
   ]
  },
  {
   "cell_type": "code",
   "execution_count": 5,
   "metadata": {},
   "outputs": [
    {
     "name": "stdout",
     "output_type": "stream",
     "text": [
      "\n",
      "\n",
      "Probability Table\n",
      " {'do': 0.3333333333333333, 'i': 0.01, 'like': 0.3333333333333333, 'green': 0.01, 'eggs': 0.01, 'and': 0.01, 'ham': 0.01, 'I': 0.99, 'am': 0.99, 'spam': 0.99, 'not': 0.0, 'that': 0.0, 'spamiam': 0.0}\n"
     ]
    }
   ],
   "source": [
    "probability_table = get_probability_table(num_ham_emails, ham_hash_table, num_spam_emails, spam_hash_table)\n",
    "print(\"Probability Table\\n\", probability_table)"
   ]
  },
  {
   "cell_type": "markdown",
   "metadata": {},
   "source": [
    "Now we can create a probability filter which uses the probability table"
   ]
  },
  {
   "cell_type": "code",
   "execution_count": 6,
   "metadata": {},
   "outputs": [],
   "source": [
    "def get_probability_of_spam(probability_table, email):\n",
    "    prod = 1.0\n",
    "    complement = 1.0\n",
    "    for word in email:\n",
    "        prod = prod * probability_table[word]\n",
    "        complement = complement * (1.0 - probability_table[word])\n",
    "\n",
    "    return prod / (prod + complement)"
   ]
  },
  {
   "cell_type": "markdown",
   "metadata": {},
   "source": [
    "Lets print the probabilities for each of the emails that we started with"
   ]
  },
  {
   "cell_type": "code",
   "execution_count": 7,
   "metadata": {},
   "outputs": [
    {
     "name": "stdout",
     "output_type": "stream",
     "text": [
      "0.9999999999989378\n",
      "0.0\n",
      "2.6288392819642677e-11\n",
      "0.005025125628140704\n"
     ]
    }
   ],
   "source": [
    "print(get_probability_of_spam(probability_table, [\"I\", \"am\", \"spam\", \"spam\", \"I\", \"am\"]))\n",
    "print(get_probability_of_spam(probability_table, [\"I\", \"do\", \"not\", \"like\", \"that\", \"spamiam\"]))\n",
    "print(get_probability_of_spam(probability_table, [\"do\", \"i\", \"like\", \"green\", \"eggs\", \"and\", \"ham\"]))\n",
    "print(get_probability_of_spam(probability_table, [\"i\", \"do\"]))"
   ]
  },
  {
   "cell_type": "markdown",
   "metadata": {},
   "source": [
    "## Response \n",
    "\n",
    "Graham argues that this is a Baysian approach to SPAM. What makes it Bayesian?. This program could be considered bayesian because it implements statistics.\n",
    "\n",
    "## Exercise 2\n",
    "\n",
    "#### Note: I had to do this exercise twice as my jupyter notebook didnt save which was why was turned in an hour after midnight Thursday.\n",
    "\n",
    "### a. Implement the network using the AIMA Python tools."
   ]
  },
  {
   "cell_type": "code",
   "execution_count": 8,
   "metadata": {},
   "outputs": [],
   "source": [
    "from probability import BayesNet, enumeration_ask, elimination_ask, gibbs_ask\n",
    "\n",
    "# Utility variables\n",
    "T, F = True, False\n",
    "\n",
    "wetnet = BayesNet([\n",
    "    ('Cloudy', '', 0.5),\n",
    "    ('Sprinkler', 'Cloudy', {T: 0.1, F: 0.5}),\n",
    "    ('Rain', 'Cloudy', {T: 0.8, F: 0.2}),\n",
    "    ('WetGrass', 'Sprinkler Rain', {(T, T): 0.99, (T, F): 0.9, (F, T): 0.9, (F, F): 0.0}),\n",
    "    ])"
   ]
  },
  {
   "cell_type": "markdown",
   "metadata": {},
   "source": [
    "### b. Compute the number of independent values in the full joint probability distribution for this domain. Assume that no conditional independence relations are known to hold between these values.\n",
    "Since there are 4 variables each of which can have a true or false, there are 16 possible independent values in the full joint probability distribution for this domain.\n",
    "\n",
    "\n",
    "### c. Compute the number of independent values in the Bayesian network for this domain. Assume the conditional independence relations implied by the Bayes network.\n",
    "We can just look at Figure 14.12(a) and count the number of probabilities provided. The answer is 9.\n",
    "\n",
    "### d. Compute probabilities for the following:\n",
    "\n",
    "P(Cloudy) is given in Figure 14.12(a) as 0.5"
   ]
  },
  {
   "cell_type": "code",
   "execution_count": 9,
   "metadata": {},
   "outputs": [
    {
     "name": "stdout",
     "output_type": "stream",
     "text": [
      "False: 0.5, True: 0.5\n"
     ]
    }
   ],
   "source": [
    "print(enumeration_ask('Cloudy', dict(), wetnet).show_approx())"
   ]
  },
  {
   "cell_type": "markdown",
   "metadata": {},
   "source": [
    "P(Sprinkler | cloudy) also look at Figure 14.12(a) = 0.1"
   ]
  },
  {
   "cell_type": "code",
   "execution_count": 10,
   "metadata": {},
   "outputs": [
    {
     "name": "stdout",
     "output_type": "stream",
     "text": [
      "False: 0.9, True: 0.1\n"
     ]
    }
   ],
   "source": [
    "print(enumeration_ask('Sprinkler', dict(Cloudy = T), wetnet).show_approx())"
   ]
  },
  {
   "cell_type": "markdown",
   "metadata": {},
   "source": [
    "P(Cloudy| Sprinkler ^ ¬Rain) = 𝝰 P(Cloudy, Sprinkler, ¬Rain) = 𝝰 P(Cloudy) * P(Sprinkler | Cloudy) * P(¬Rain | Cloudy) = 𝝰 < 0.5 * 0.1 * 0.1, 0.5 * 0.5 * 0.8 > = 𝝰 <0.005, 0.2> = <0.0476, 0.952>"
   ]
  },
  {
   "cell_type": "code",
   "execution_count": 11,
   "metadata": {},
   "outputs": [
    {
     "name": "stdout",
     "output_type": "stream",
     "text": [
      "False: 0.952, True: 0.0476\n"
     ]
    }
   ],
   "source": [
    "print(enumeration_ask('Cloudy', dict(Sprinkler = T, Rain = F), wetnet).show_approx())"
   ]
  },
  {
   "cell_type": "markdown",
   "metadata": {},
   "source": [
    "P(WetGrass | Cloudy ^ Sprinkler ^ Rain) = 𝝰 P(WetGrass, Cloudy, Sprinkler, Rain) = 𝝰 P(WetGrass | Sprinkler ^ Rain) * P(Sprinkler | Cloudy) * P(Rain | Cloudy) * P(Cloudy)\n",
    "= 𝝰 < 0.99 * 0.1 * 0.8 * 0.5, 0.01 * 0.1 * 0.8 * 0.5>\n",
    "= 𝝰 < 0.0396, 0.0004 > \n",
    "= < 0.99, 0.01 >"
   ]
  },
  {
   "cell_type": "code",
   "execution_count": 12,
   "metadata": {},
   "outputs": [
    {
     "name": "stdout",
     "output_type": "stream",
     "text": [
      "False: 0.01, True: 0.99\n"
     ]
    }
   ],
   "source": [
    "print(enumeration_ask('WetGrass', dict(Cloudy = T, Sprinkler = T, Rain = T), wetnet).show_approx())"
   ]
  },
  {
   "cell_type": "markdown",
   "metadata": {},
   "source": [
    "P(Cloudy | ¬WetGrass) = 𝝰 P(¬WetGrass | Sprinkler ^ Rain) * P(Sprinkler | Cloudy) * P(Rain | Cloudy) * P(Cloudy)\n",
    "= 𝝰 < 0.01 * 0.1 * 0.8 * 0.5, 0.99 * 0.1 * 0.8 * 0.5>\n",
    "= < 0.639, 0.361 >"
   ]
  },
  {
   "cell_type": "code",
   "execution_count": 13,
   "metadata": {},
   "outputs": [
    {
     "name": "stdout",
     "output_type": "stream",
     "text": [
      "False: 0.639, True: 0.361\n"
     ]
    }
   ],
   "source": [
    "print(enumeration_ask('Cloudy', dict(WetGrass = F), wetnet).show_approx())"
   ]
  }
 ],
 "metadata": {
  "file_extension": ".py",
  "kernelspec": {
   "display_name": "Python 3",
   "language": "python",
   "name": "python3"
  },
  "language_info": {
   "codemirror_mode": {
    "name": "ipython",
    "version": 3
   },
   "file_extension": ".py",
   "mimetype": "text/x-python",
   "name": "python",
   "nbconvert_exporter": "python",
   "pygments_lexer": "ipython3",
   "version": "3.7.7"
  },
  "mimetype": "text/x-python",
  "name": "python",
  "npconvert_exporter": "python",
  "pygments_lexer": "ipython3",
  "version": 3
 },
 "nbformat": 4,
 "nbformat_minor": 2
}
