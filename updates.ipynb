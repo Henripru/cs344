{
  "nbformat": 4,
  "nbformat_minor": 0,
  "metadata": {
    "colab": {
      "name": "updates.ipynb",
      "provenance": []
    },
    "kernelspec": {
      "name": "python3",
      "display_name": "Python 3"
    }
  },
  "cells": [
    {
      "cell_type": "markdown",
      "metadata": {
        "id": "F9SaQj8IK73y",
        "colab_type": "text"
      },
      "source": [
        "### Updates\n",
        "1. Adding method for generating chess moves\n",
        "2. Restructure fact assertion\n",
        "3. Add boardGenerationFunction\n",
        "4. Add function to call minimax on new boards\n",
        "5. Restruture project\n",
        "6. Add minimax methods\n",
        "7. Add chess piece moves\n",
        "8. Debug\n",
        "9. Add more chess piece moves. "
      ]
    }
  ]
}