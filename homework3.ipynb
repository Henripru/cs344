{
  "nbformat": 4,
  "nbformat_minor": 0,
  "metadata": {
    "colab": {
      "name": "Untitled1.ipynb",
      "provenance": [],
      "collapsed_sections": []
    },
    "kernelspec": {
      "name": "python3",
      "display_name": "Python 3"
    }
  },
  "cells": [
    {
      "cell_type": "markdown",
      "metadata": {
        "id": "Y6LH-2ar-vqE",
        "colab_type": "text"
      },
      "source": [
        "# Homework 3\n"
      ]
    },
    {
      "cell_type": "markdown",
      "metadata": {
        "id": "Xh9jTPtl6A9U",
        "colab_type": "text"
      },
      "source": [
        "# Problem 1\n",
        "\n",
        "Information Gain of Price\n",
        "\n",
        "Gain(Price) = 1 - Remainder(Price);\n",
        "\n",
        "Remainder(A) = Sum (from k = 1 to d, (pk + nk)/(p + n)*B(pk/(pk + nk)) ) \n",
        "where pk = number of times that the input resulted in a positive outcome and nk = number of times that the input resulted in a negative outcome. \n",
        "\n",
        "so Remainder(Hungry) = \t\n",
        "(1 \\$\\$\\$ + 2 -$$$)/12*B(1/3)\n",
        "\n",
        "\\+ (2 \\$\\$ + 0 -\\$\\$) / 12 * B(2/2) \n",
        "\n",
        "\\+ (3 \\$ + 4 -\\$) / 12 * B(3/7)\n",
        "\n",
        "= 0.8\n",
        "\n",
        "So Gain(Price) = 1 - 0.8 = 0.2  "
      ]
    },
    {
      "cell_type": "markdown",
      "metadata": {
        "id": "rmkb1AB2-FFm",
        "colab_type": "text"
      },
      "source": [
        "# Problem 2\n",
        "\n",
        "We can create a xor function using 2 input nodes, 2 hidden nodes, and 1 output node. one hidden node acts like the nand function and the other acts like an or function, while the output node acts like an and function. This is the simplest feed forward network that can properly act like xor. A picture from the internet can illustrate sample weights that can be applied to such a network. \n",
        "\n",
        "<img src=\"http://mnemstudio.org/ai/nn//images/XORNet1.gif\">\n",
        "\n",
        "\n",
        "Looking online, I also found this neural network for a xor function. It is a simpler network than the feedforward network as it has one less hidden node. This network (as you suggested in the hint) does not follow the normal rules for densly connected sequential layers as the input values are also passed to the output node.\n",
        "\n",
        "<img src=\"http://mnemstudio.org/ai/nn/images/MLPXOR1.gif\">"
      ]
    },
    {
      "cell_type": "markdown",
      "metadata": {
        "id": "zHLPi9uKTxDf",
        "colab_type": "text"
      },
      "source": [
        "# Problem 3\n",
        "\n",
        "\n",
        "## a. Compute the dimensions of the data structures. Include code to print these values.\n",
        "\n",
        "\n"
      ]
    },
    {
      "cell_type": "code",
      "metadata": {
        "id": "7JJaHOQVUNIB",
        "colab_type": "code",
        "colab": {
          "base_uri": "https://localhost:8080/",
          "height": 85
        },
        "outputId": "94c2b60c-086a-4e4a-a67a-401d84a0a319"
      },
      "source": [
        "import keras\n",
        "from keras.Datasets import boston_housing\n",
        "import pandas as pd\n",
        "import numpy as np\n",
        "\n",
        "(train_data, train_targets), (test_data, test_targets) =  boston_housing.load_data()\n",
        "\n",
        "print(\"Training data sample count:\", train_data.shape[0])\n",
        "print(\"Training data feature count:\", train_data.shape[1])\n",
        "print(\"Test data sample count:\", test_data.shape[0])\n",
        "print(\"test data feature count:\", test_data.shape[1])"
      ],
      "execution_count": 2,
      "outputs": [
        {
          "output_type": "stream",
          "text": [
            "Training data sample count: 404\n",
            "Training data feature count: 13\n",
            "Test data sample count: 102\n",
            "test data feature count: 13\n"
          ],
          "name": "stdout"
        }
      ]
    },
    {
      "cell_type": "markdown",
      "metadata": {
        "id": "rfxQ_RFOUEys",
        "colab_type": "text"
      },
      "source": [
        "\n",
        "## b. Construct a suitable testing set, training set, and validation set for this data. Submit code to create these datasets but do not include the datasets themselves."
      ]
    },
    {
      "cell_type": "code",
      "metadata": {
        "id": "CnjljgAQUNln",
        "colab_type": "code",
        "colab": {}
      },
      "source": [
        "# Create dataframe\n",
        "dataframeTemp = pd.DataFrame(train_data)\n",
        "dataframeTemp[\"targets\"] = train_targets\n",
        "\n",
        "# Create test set \n",
        "test_set = pd.DataFrame(test_data)\n",
        "test_set[\"targets\"] = test_targets\n",
        "\n",
        "# Create validation set and training set from dataframeTemp\n",
        "dataframeTrainingSet = dataframeTemp.(404-50)\n",
        "validation_set = dataframeTemp.tail(50)"
      ],
      "execution_count": 0,
      "outputs": []
    },
    {
      "cell_type": "markdown",
      "metadata": {
        "id": "qaZIr4fGUFQ_",
        "colab_type": "text"
      },
      "source": [
        "## c. Create one new synthetic feature that could be useful for machine learning in this domain. Explain what it is and why it might be useful, and submit code to add it to the dataset.\n",
        "\n",
        "We add a variable which is a proportion of the number of rooms per dwelling to the per capita crime rate.\n",
        "\n",
        "This can be useful to find information about density of living and crime rate with relation to other variables"
      ]
    },
    {
      "cell_type": "code",
      "metadata": {
        "id": "wLXPgY2X5qEJ",
        "colab_type": "code",
        "colab": {}
      },
      "source": [
        "dataframeTrainingSet[\"dwellingDensityCrimeRateRatio\"] = dataframeTrainingSet[5]/dataframeTrainingSet[0]"
      ],
      "execution_count": 0,
      "outputs": []
    }
  ]
}